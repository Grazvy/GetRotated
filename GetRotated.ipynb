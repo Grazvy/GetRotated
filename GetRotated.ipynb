{
 "cells": [
  {
   "cell_type": "code",
   "execution_count": null,
   "id": "initial_id",
   "metadata": {
    "collapsed": true
   },
   "outputs": [],
   "source": [
    "import torch\n",
    "import torch.nn as nn \n",
    "from DataLoader import DataLoader \n",
    "import torch.optim as optim\n",
    "from Models import RotationNN\n",
    "from utils import rotate"
   ]
  },
  {
   "metadata": {},
   "cell_type": "code",
   "outputs": [],
   "execution_count": null,
   "source": [
    "image_size = 512\n",
    "num_samples = 100\n",
    "\n",
    "loader = DataLoader(image_size, num_samples)\n",
    "model = RotationNN(image_size)\n",
    "criterion = nn.BCELoss() \n",
    "optimizer = optim.SGD(model.parameters(), lr=0.01) "
   ],
   "id": "5aefef9641503332"
  },
  {
   "metadata": {},
   "cell_type": "code",
   "outputs": [],
   "execution_count": null,
   "source": [
    "epochs = 1000\n",
    "for epoch in range(epochs):\n",
    "    #todo\n",
    "    x = loader.__next__()\n",
    "    y = rotate(y)\n",
    "    y_pred = model(x)\n",
    "\n",
    "    loss = criterion(y_pred.squeeze(), y)\n",
    "    \n",
    "    optimizer.zero_grad()\n",
    "    loss.backward()\n",
    "    optimizer.step()\n",
    "\n",
    "    if (epoch + 1) % 100 == 0:\n",
    "        print(f'Epoch [{epoch + 1}/{epochs}], Loss: {loss.item():.4f}')"
   ],
   "id": "98d7e652b89f41bc"
  }
 ],
 "metadata": {
  "kernelspec": {
   "display_name": "Python 3",
   "language": "python",
   "name": "python3"
  },
  "language_info": {
   "codemirror_mode": {
    "name": "ipython",
    "version": 2
   },
   "file_extension": ".py",
   "mimetype": "text/x-python",
   "name": "python",
   "nbconvert_exporter": "python",
   "pygments_lexer": "ipython2",
   "version": "2.7.6"
  }
 },
 "nbformat": 4,
 "nbformat_minor": 5
}
