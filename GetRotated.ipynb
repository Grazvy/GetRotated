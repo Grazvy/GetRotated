{
 "cells": [
  {
   "cell_type": "code",
   "id": "initial_id",
   "metadata": {
    "collapsed": true,
    "ExecuteTime": {
     "end_time": "2025-01-21T14:41:46.741337Z",
     "start_time": "2025-01-21T14:41:45.904749Z"
    }
   },
   "source": [
    "import torch.nn as nn \n",
    "from DataLoader import DataLoader \n",
    "import torch.optim as optim\n",
    "from Models import RotationNN\n",
    "from utils import plot_image, line_image, rotate_images"
   ],
   "outputs": [],
   "execution_count": 1
  },
  {
   "metadata": {
    "ExecuteTime": {
     "end_time": "2025-01-21T14:58:53.792710Z",
     "start_time": "2025-01-21T14:58:53.473006Z"
    }
   },
   "cell_type": "code",
   "source": [
    "image_size = 512\n",
    "num_samples = 100\n",
    "batch_size = 1 # pure SGD\n",
    "\n",
    "loader = DataLoader(image_size, num_samples, batch_size)\n",
    "model = RotationNN(image_size)\n",
    "criterion = nn.BCELoss() \n",
    "optimizer = optim.SGD(model.parameters(), lr=0.05) "
   ],
   "id": "5aefef9641503332",
   "outputs": [],
   "execution_count": 307
  },
  {
   "metadata": {},
   "cell_type": "code",
   "outputs": [],
   "execution_count": null,
   "source": [
    "epochs = 100\n",
    "for epoch in range(epochs):\n",
    "    for x, _ in loader:\n",
    "        y = rotate_images(x)\n",
    "        y_pred = model(x)\n",
    "    \n",
    "        loss = criterion(y_pred, y)\n",
    "        \n",
    "        optimizer.zero_grad()\n",
    "        loss.backward()\n",
    "        optimizer.step()\n",
    "\n",
    "    if (epoch + 1) % 100 == 0:\n",
    "        print(f'Epoch [{epoch + 1}/{epochs}], Loss: {loss.item():.4f}')"
   ],
   "id": "98d7e652b89f41bc"
  }
 ],
 "metadata": {
  "kernelspec": {
   "display_name": "Python 3",
   "language": "python",
   "name": "python3"
  },
  "language_info": {
   "codemirror_mode": {
    "name": "ipython",
    "version": 2
   },
   "file_extension": ".py",
   "mimetype": "text/x-python",
   "name": "python",
   "nbconvert_exporter": "python",
   "pygments_lexer": "ipython2",
   "version": "2.7.6"
  }
 },
 "nbformat": 4,
 "nbformat_minor": 5
}
