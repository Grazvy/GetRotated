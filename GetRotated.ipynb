{
 "cells": [
  {
   "metadata": {
    "ExecuteTime": {
     "end_time": "2025-01-21T15:53:14.703146Z",
     "start_time": "2025-01-21T15:53:14.569661Z"
    }
   },
   "cell_type": "code",
   "source": [
    "import torch.nn as nn \n",
    "from DataLoader import DataLoader \n",
    "import torch.optim as optim\n",
    "from Models import RotationNN\n",
    "from utils import plot_image, line_image, rotate_images\n",
    "%load_ext autoreload\n",
    "%autoreload 2"
   ],
   "id": "initial_id",
   "outputs": [
    {
     "name": "stdout",
     "output_type": "stream",
     "text": [
      "The autoreload extension is already loaded. To reload it, use:\n",
      "  %reload_ext autoreload\n"
     ]
    }
   ],
   "execution_count": 28
  },
  {
   "metadata": {
    "ExecuteTime": {
     "end_time": "2025-01-21T15:53:15.887985Z",
     "start_time": "2025-01-21T15:53:15.857473Z"
    }
   },
   "cell_type": "code",
   "source": [
    "image_size = 128\n",
    "num_samples = 50\n",
    "batch_size = 1 # pure SGD\n",
    "\n",
    "loader = DataLoader(image_size, num_samples, batch_size)\n",
    "model = RotationNN(image_size)\n",
    "criterion = nn.L1Loss()\n",
    "optimizer = optim.SGD(model.parameters(), lr=0.2) "
   ],
   "id": "5aefef9641503332",
   "outputs": [],
   "execution_count": 29
  },
  {
   "metadata": {
    "ExecuteTime": {
     "end_time": "2025-01-21T15:54:21.606108Z",
     "start_time": "2025-01-21T15:53:17.416493Z"
    }
   },
   "cell_type": "code",
   "source": [
    "epochs = 1000\n",
    "for epoch in range(epochs):\n",
    "    for x, _ in loader:\n",
    "        y = rotate_images(x)\n",
    "        y_pred = model(x)\n",
    "    \n",
    "        loss = criterion(y_pred, y)\n",
    "        \n",
    "        optimizer.zero_grad()\n",
    "        loss.backward()\n",
    "        optimizer.step()\n",
    "\n",
    "    if (epoch + 1) % 100 == 0:\n",
    "        print(f'Epoch [{epoch + 1}/{epochs}], Loss: {loss.item():.4f}')"
   ],
   "id": "98d7e652b89f41bc",
   "outputs": [
    {
     "name": "stdout",
     "output_type": "stream",
     "text": [
      "Epoch [100/1000], Loss: 0.2314\n",
      "Epoch [200/1000], Loss: 0.2306\n",
      "Epoch [300/1000], Loss: 0.2284\n",
      "Epoch [400/1000], Loss: 0.2298\n",
      "Epoch [500/1000], Loss: 0.2300\n",
      "Epoch [600/1000], Loss: 0.2301\n",
      "Epoch [700/1000], Loss: 0.2291\n",
      "Epoch [800/1000], Loss: 0.2280\n",
      "Epoch [900/1000], Loss: 0.2299\n",
      "Epoch [1000/1000], Loss: 0.2306\n"
     ]
    }
   ],
   "execution_count": 30
  },
  {
   "metadata": {
    "ExecuteTime": {
     "end_time": "2025-01-21T15:55:03.960089Z",
     "start_time": "2025-01-21T15:55:03.884700Z"
    }
   },
   "cell_type": "code",
   "source": [
    "# testing\n",
    "line = line_image(image_size)\n",
    "plot_image(model(line))"
   ],
   "id": "a4c1b1f1f582f3b6",
   "outputs": [
    {
     "data": {
      "text/plain": [
       "<Figure size 640x480 with 1 Axes>"
      ],
      "image/png": "[encoded data removed]"
     },
     "metadata": {},
     "output_type": "display_data"
    }
   ],
   "execution_count": 31
  }
 ],
 "metadata": {
  "kernelspec": {
   "display_name": "Python 3",
   "language": "python",
   "name": "python3"
  },
  "language_info": {
   "codemirror_mode": {
    "name": "ipython",
    "version": 2
   },
   "file_extension": ".py",
   "mimetype": "text/x-python",
   "name": "python",
   "nbconvert_exporter": "python",
   "pygments_lexer": "ipython2",
   "version": "2.7.6"
  }
 },
 "nbformat": 4,
 "nbformat_minor": 5
}
